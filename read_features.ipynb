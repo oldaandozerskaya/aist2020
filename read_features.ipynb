{
  "nbformat": 4,
  "nbformat_minor": 0,
  "metadata": {
    "colab": {
      "name": "read_features.ipynb",
      "provenance": [],
      "authorship_tag": "ABX9TyNtY4eP4BDEZv7353l+cPg7",
      "include_colab_link": true
    },
    "kernelspec": {
      "name": "python3",
      "display_name": "Python 3"
    }
  },
  "cells": [
    {
      "cell_type": "markdown",
      "metadata": {
        "id": "view-in-github",
        "colab_type": "text"
      },
      "source": [
        "<a href=\"https://colab.research.google.com/github/oldaandozerskaya/aist2020/blob/master/read_features.ipynb\" target=\"_parent\"><img src=\"https://colab.research.google.com/assets/colab-badge.svg\" alt=\"Open In Colab\"/></a>"
      ]
    },
    {
      "cell_type": "code",
      "metadata": {
        "id": "LC0FdjuM3exx",
        "colab_type": "code",
        "colab": {}
      },
      "source": [
        "import pandas as pd\n",
        "import pickle"
      ],
      "execution_count": 1,
      "outputs": []
    },
    {
      "cell_type": "code",
      "metadata": {
        "id": "MTBOI2Gk3owg",
        "colab_type": "code",
        "colab": {}
      },
      "source": [
        "df=pd.read_csv('all_features.csv', sep=';')\n",
        "df"
      ],
      "execution_count": null,
      "outputs": []
    },
    {
      "cell_type": "code",
      "metadata": {
        "id": "04RH7Xqk3sPs",
        "colab_type": "code",
        "colab": {}
      },
      "source": [
        "with open('train_labels2.pickle', 'rb') as handle:\n",
        "    train_labels=pickle.load(handle)\n",
        "\n",
        "train_labels[:5]"
      ],
      "execution_count": null,
      "outputs": []
    }
  ]
}